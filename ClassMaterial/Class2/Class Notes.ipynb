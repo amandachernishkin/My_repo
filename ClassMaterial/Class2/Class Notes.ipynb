{
 "cells": [
  {
   "cell_type": "code",
   "execution_count": 1,
   "metadata": {},
   "outputs": [],
   "source": [
    "x = 24"
   ]
  },
  {
   "cell_type": "code",
   "execution_count": 3,
   "metadata": {},
   "outputs": [
    {
     "data": {
      "text/plain": [
       "bool"
      ]
     },
     "execution_count": 3,
     "metadata": {},
     "output_type": "execute_result"
    }
   ],
   "source": [
    "type(x == 25) #Bool - true/false are their own data types "
   ]
  },
  {
   "cell_type": "code",
   "execution_count": 4,
   "metadata": {},
   "outputs": [],
   "source": [
    "y = 25"
   ]
  },
  {
   "cell_type": "code",
   "execution_count": 5,
   "metadata": {},
   "outputs": [
    {
     "data": {
      "text/plain": [
       "True"
      ]
     },
     "execution_count": 5,
     "metadata": {},
     "output_type": "execute_result"
    }
   ],
   "source": [
    "x == 24 or y == 24"
   ]
  },
  {
   "cell_type": "code",
   "execution_count": 6,
   "metadata": {},
   "outputs": [
    {
     "data": {
      "text/plain": [
       "False"
      ]
     },
     "execution_count": 6,
     "metadata": {},
     "output_type": "execute_result"
    }
   ],
   "source": [
    "x == 24 and y == 24"
   ]
  },
  {
   "cell_type": "code",
   "execution_count": 11,
   "metadata": {},
   "outputs": [
    {
     "name": "stdout",
     "output_type": "stream",
     "text": [
      "The expression was True.\n",
      "This will also print if it's True.\n",
      "this will print no matter what\n"
     ]
    }
   ],
   "source": [
    "if x == 24:\n",
    "    print(\"The expression was True.\")\n",
    "    print(\"This will also print if it's True.\") #Must be on same indent, if not indented Python wont know this is apart \n",
    "                                                #of the above if statement. People the two lines are on same indent, they\n",
    "                                                #are tied together. \n",
    "print(\"This will print no matter what\")"
   ]
  },
  {
   "cell_type": "code",
   "execution_count": 13,
   "metadata": {},
   "outputs": [
    {
     "name": "stdout",
     "output_type": "stream",
     "text": [
      "The expression was True.\n",
      "This will also print if it's True.\n"
     ]
    }
   ],
   "source": [
    "if x == 24:\n",
    "    print(\"The expression was True.\")\n",
    "    print(\"This will also print if it's True.\") #Prints if expression is TRUE \n",
    "else: \n",
    "    print(\"Nothing is true\")     #Prints if expression is FALSE \n",
    "    print(\"Attached to the else\")"
   ]
  },
  {
   "cell_type": "code",
   "execution_count": 14,
   "metadata": {},
   "outputs": [
    {
     "data": {
      "text/plain": [
       "True"
      ]
     },
     "execution_count": 14,
     "metadata": {},
     "output_type": "execute_result"
    }
   ],
   "source": [
    "True or False and False and False #Results to True "
   ]
  },
  {
   "cell_type": "code",
   "execution_count": 18,
   "metadata": {},
   "outputs": [
    {
     "data": {
      "text/plain": [
       "False"
      ]
     },
     "execution_count": 18,
     "metadata": {},
     "output_type": "execute_result"
    }
   ],
   "source": [
    "(True or False) and (False and False) #Results to False \n",
    "\n",
    "#Python looks at AND before OR "
   ]
  },
  {
   "cell_type": "code",
   "execution_count": 17,
   "metadata": {},
   "outputs": [
    {
     "data": {
      "text/plain": [
       "True"
      ]
     },
     "execution_count": 17,
     "metadata": {},
     "output_type": "execute_result"
    }
   ],
   "source": [
    "True or False and False"
   ]
  },
  {
   "cell_type": "code",
   "execution_count": 29,
   "metadata": {},
   "outputs": [
    {
     "name": "stdout",
     "output_type": "stream",
     "text": [
      "The expression was True.\n",
      "X is less than 25:{x}\n"
     ]
    }
   ],
   "source": [
    "if x < 30: \n",
    "    print(\"The expression was True.\")\n",
    "    if x < 25: \n",
    "        print(f\"X is less than 25:{x}\") # f for format \n",
    "    else:\n",
    "        print(\"X is between 25 & 30\")\n",
    "elif y == 25:\n",
    "    print(f\"The value of y is: {y}\")\n",
    "else: \n",
    "    print(\"Nothing is True.\")"
   ]
  },
  {
   "cell_type": "code",
   "execution_count": 28,
   "metadata": {},
   "outputs": [
    {
     "data": {
      "text/plain": [
       "'The value of x squared: 576'"
      ]
     },
     "execution_count": 28,
     "metadata": {},
     "output_type": "execute_result"
    }
   ],
   "source": [
    "\"The value of x squared: {x**2}\" #Returns: \"The value of x squared: {x**2}\"\n",
    "f\"The value of x squared: {x**2}\" #Returns:'The value of x squared: 576'"
   ]
  },
  {
   "cell_type": "code",
   "execution_count": 31,
   "metadata": {},
   "outputs": [
    {
     "name": "stdout",
     "output_type": "stream",
     "text": [
      "what is your age?: 35\n"
     ]
    }
   ],
   "source": [
    "age = input(\"what is your age?: \")"
   ]
  },
  {
   "cell_type": "code",
   "execution_count": 55,
   "metadata": {},
   "outputs": [],
   "source": [
    "our_list = [24, 14, True, False, 'this', 'that', 'something else', [4, 7, 11, 13]]"
   ]
  },
  {
   "cell_type": "code",
   "execution_count": 33,
   "metadata": {},
   "outputs": [
    {
     "data": {
      "text/plain": [
       "24"
      ]
     },
     "execution_count": 33,
     "metadata": {},
     "output_type": "execute_result"
    }
   ],
   "source": [
    "our_list[0] #position zero (1st item)"
   ]
  },
  {
   "cell_type": "code",
   "execution_count": null,
   "metadata": {},
   "outputs": [],
   "source": [
    "our_list[-1] #start from the right and go to the left. -1 is last item in the list"
   ]
  },
  {
   "cell_type": "code",
   "execution_count": 34,
   "metadata": {},
   "outputs": [
    {
     "data": {
      "text/plain": [
       "'something else'"
      ]
     },
     "execution_count": 34,
     "metadata": {},
     "output_type": "execute_result"
    }
   ],
   "source": [
    "our_list[-2] #second to last"
   ]
  },
  {
   "cell_type": "code",
   "execution_count": 35,
   "metadata": {},
   "outputs": [
    {
     "data": {
      "text/plain": [
       "[24, 14, True, False]"
      ]
     },
     "execution_count": 35,
     "metadata": {},
     "output_type": "execute_result"
    }
   ],
   "source": [
    "our_list[:4] # items 0-3 not including 4"
   ]
  },
  {
   "cell_type": "code",
   "execution_count": 36,
   "metadata": {},
   "outputs": [
    {
     "data": {
      "text/plain": [
       "['that', 'something else', [4, 7, 11, 13]]"
      ]
     },
     "execution_count": 36,
     "metadata": {},
     "output_type": "execute_result"
    }
   ],
   "source": [
    "our_list[5:] #position 5 to the end (start at position 5)  --- 'slicing'"
   ]
  },
  {
   "cell_type": "code",
   "execution_count": 37,
   "metadata": {},
   "outputs": [
    {
     "data": {
      "text/plain": [
       "[True, False, 'this', 'that']"
      ]
     },
     "execution_count": 37,
     "metadata": {},
     "output_type": "execute_result"
    }
   ],
   "source": [
    "our_list[2:6] #Goes from position 2 but not include 6 "
   ]
  },
  {
   "cell_type": "code",
   "execution_count": 46,
   "metadata": {},
   "outputs": [],
   "source": [
    "our_list.append('the last item') #adds item to end of list"
   ]
  },
  {
   "cell_type": "code",
   "execution_count": 47,
   "metadata": {},
   "outputs": [
    {
     "data": {
      "text/plain": [
       "[24, 14, True, False, 'this', 'that', 'something else', [4, 7, 11, 13]]"
      ]
     },
     "execution_count": 47,
     "metadata": {},
     "output_type": "execute_result"
    }
   ],
   "source": [
    "our_list.pop() #removes last item\n",
    "our_list"
   ]
  },
  {
   "cell_type": "code",
   "execution_count": 53,
   "metadata": {},
   "outputs": [
    {
     "data": {
      "text/plain": [
       "[24, 14, [4, 7, 11, 13]]"
      ]
     },
     "execution_count": 53,
     "metadata": {},
     "output_type": "execute_result"
    }
   ],
   "source": [
    "our_list.pop(2) #removes True from list \n",
    "our_list"
   ]
  },
  {
   "cell_type": "code",
   "execution_count": 56,
   "metadata": {},
   "outputs": [
    {
     "name": "stdout",
     "output_type": "stream",
     "text": [
      "Item 24 is not\n",
      "Item 14 is not\n",
      "Item True is not\n",
      "Item False is not\n",
      "The item this is a string\n",
      "The item that is a string\n",
      "The item something else is a string\n",
      "Item [4, 7, 11, 13] is not\n"
     ]
    }
   ],
   "source": [
    "for each_item in our_list:  #executes below if statment for every item in our_list list\n",
    "    if type(each_item) == str: \n",
    "        print(f'The item {each_item} is a string')\n",
    "    else:\n",
    "        print(f'Item {each_item} is not')"
   ]
  },
  {
   "cell_type": "code",
   "execution_count": 57,
   "metadata": {},
   "outputs": [],
   "source": [
    "import os"
   ]
  },
  {
   "cell_type": "code",
   "execution_count": 58,
   "metadata": {},
   "outputs": [
    {
     "data": {
      "text/plain": [
       "['.ipynb_checkpoints',\n",
       " 'Class 2 Prompt - Comparisons & Booleans.ipynb',\n",
       " 'Class Notes.ipynb',\n",
       " 'Labs']"
      ]
     },
     "execution_count": 58,
     "metadata": {},
     "output_type": "execute_result"
    }
   ],
   "source": [
    "os.listdir() #returns all files in this directory that you're in and returns them as a strings "
   ]
  },
  {
   "cell_type": "code",
   "execution_count": 68,
   "metadata": {},
   "outputs": [],
   "source": [
    "for file in os.listdir(): \n",
    "    if file[-3:] == '.py':\n",
    "        print(f\"The file '{file}' is a python file\")    #checks for last three items in list\n",
    "        \n",
    "        #[-6: ] start from right and cout to the left 6 "
   ]
  },
  {
   "cell_type": "code",
   "execution_count": 72,
   "metadata": {},
   "outputs": [
    {
     "name": "stdout",
     "output_type": "stream",
     "text": [
      "Will this print for every line?\n",
      "Will this print for every line?\n",
      "Will this print for every line?\n",
      "Will this print for every line?\n",
      "The item 'this' is a string\n",
      "Will this print for every line?\n",
      "The item 'that' is a string\n",
      "Will this print for every line?\n",
      "The item 'something else' is a string\n",
      "Will this print for every line?\n",
      "Will this print for every line?\n",
      "When will this show up?\n"
     ]
    }
   ],
   "source": [
    "for item in our_list: \n",
    "    if type(item) == str: \n",
    "        print(f\"The item '{item}' is a string\") #this will print if the statment is true \n",
    "    print(\"Will this print for every line?\") #this will print with ever line \n",
    "print(\"When will this show up?\") #only shows once at the end "
   ]
  },
  {
   "cell_type": "code",
   "execution_count": 73,
   "metadata": {},
   "outputs": [],
   "source": [
    "list_of_lists = [[3, 6, 9], [7, 3, 11], [21, 15, 'the end']]"
   ]
  },
  {
   "cell_type": "code",
   "execution_count": 75,
   "metadata": {},
   "outputs": [
    {
     "name": "stdout",
     "output_type": "stream",
     "text": [
      "[3, 6, 9]\n",
      "[7, 3, 11]\n",
      "[21, 15, 'the end']\n"
     ]
    }
   ],
   "source": [
    "for item in list_of_lists: \n",
    "    print(item)\n",
    "#each item in this list is a list "
   ]
  },
  {
   "cell_type": "code",
   "execution_count": 79,
   "metadata": {},
   "outputs": [
    {
     "name": "stdout",
     "output_type": "stream",
     "text": [
      "3\n",
      "6\n",
      "9\n",
      "7\n",
      "3\n",
      "11\n",
      "21\n",
      "15\n",
      "the end\n"
     ]
    }
   ],
   "source": [
    "for item in list_of_lists: #breaks up the lists of lists \n",
    "    for sub_item in item: \n",
    "        print(sub_item)"
   ]
  },
  {
   "cell_type": "code",
   "execution_count": 92,
   "metadata": {},
   "outputs": [
    {
     "data": {
      "text/plain": [
       "[21, 15]"
      ]
     },
     "execution_count": 92,
     "metadata": {},
     "output_type": "execute_result"
    }
   ],
   "source": [
    "list_of_lists[-1][:2]"
   ]
  },
  {
   "cell_type": "code",
   "execution_count": 94,
   "metadata": {},
   "outputs": [
    {
     "name": "stdout",
     "output_type": "stream",
     "text": [
      "t\n",
      "h\n",
      "e\n",
      " \n",
      "e\n",
      "n\n",
      "d\n"
     ]
    }
   ],
   "source": [
    "for letter in list_of_lists[-1][-1]:\n",
    "    print(letter)"
   ]
  },
  {
   "cell_type": "code",
   "execution_count": 98,
   "metadata": {},
   "outputs": [
    {
     "name": "stdout",
     "output_type": "stream",
     "text": [
      "3\n",
      "6\n",
      "9\n",
      "7\n",
      "3\n",
      "11\n",
      "21\n",
      "15\n",
      "the end\n",
      "['the', 'end']\n"
     ]
    }
   ],
   "source": [
    "for _list in list_of_lists: \n",
    "    for item in _list: \n",
    "        print(item)\n",
    "        if type(item) == str:\n",
    "            print(item.split())"
   ]
  },
  {
   "cell_type": "code",
   "execution_count": 99,
   "metadata": {},
   "outputs": [],
   "source": [
    "flat_list = []              #changing list to 'flat'\n",
    "\n",
    "for item in list_of_lists: \n",
    "    for sub_item in item: \n",
    "        flat_list.append(sub_item)"
   ]
  },
  {
   "cell_type": "code",
   "execution_count": 100,
   "metadata": {},
   "outputs": [
    {
     "data": {
      "text/plain": [
       "[3, 6, 9, 7, 3, 11, 21, 15, 'the end']"
      ]
     },
     "execution_count": 100,
     "metadata": {},
     "output_type": "execute_result"
    }
   ],
   "source": [
    "flat_list"
   ]
  }
 ],
 "metadata": {
  "kernelspec": {
   "display_name": "Python 3",
   "language": "python",
   "name": "python3"
  },
  "language_info": {
   "codemirror_mode": {
    "name": "ipython",
    "version": 3
   },
   "file_extension": ".py",
   "mimetype": "text/x-python",
   "name": "python",
   "nbconvert_exporter": "python",
   "pygments_lexer": "ipython3",
   "version": "3.8.3"
  }
 },
 "nbformat": 4,
 "nbformat_minor": 4
}
